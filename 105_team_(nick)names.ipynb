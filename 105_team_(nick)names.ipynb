{
 "cells": [
  {
   "cell_type": "code",
   "execution_count": 1,
   "id": "f22ff1d8",
   "metadata": {},
   "outputs": [],
   "source": [
    "import pandas as pd"
   ]
  },
  {
   "cell_type": "code",
   "execution_count": 2,
   "id": "ac9ead47",
   "metadata": {},
   "outputs": [],
   "source": [
    "df = pd.read_csv('data/matches.csv')"
   ]
  },
  {
   "cell_type": "code",
   "execution_count": 4,
   "id": "9a8bb034",
   "metadata": {},
   "outputs": [],
   "source": [
    "df['names'] = df['homeTeam'].apply(lambda x: x.replace('.','').lower().split(' '))"
   ]
  },
  {
   "cell_type": "code",
   "execution_count": 5,
   "id": "ac367796",
   "metadata": {},
   "outputs": [],
   "source": [
    "names = df.explode('names')"
   ]
  },
  {
   "cell_type": "code",
   "execution_count": 11,
   "id": "69bd6b78",
   "metadata": {},
   "outputs": [
    {
     "data": {
      "text/plain": [
       "names\n",
       "fc           26\n",
       "dynamo        9\n",
       "inter         8\n",
       "red           8\n",
       "xi            8\n",
       "dinamo        7\n",
       "spartak       7\n",
       "united        7\n",
       "fk            6\n",
       "sk            6\n",
       "city          5\n",
       "sc            5\n",
       "st            5\n",
       "1             4\n",
       "arsenal       4\n",
       "athletic      4\n",
       "belgrade      4\n",
       "budućnost     4\n",
       "club          4\n",
       "cska          4\n",
       "hajduk        4\n",
       "la            4\n",
       "partizan      4\n",
       "slavia        4\n",
       "star          4\n",
       "torpedo       4\n",
       "town          4\n",
       "05            3\n",
       "aris          3\n",
       "beograd       3\n",
       "berlin        3\n",
       "borac         3\n",
       "de            3\n",
       "frankfurt     3\n",
       "if            3\n",
       "kyiv          3\n",
       "ofk           3\n",
       "olimpija      3\n",
       "racing        3\n",
       "rangers       3\n",
       "rapid         3\n",
       "rovers        3\n",
       "slovan        3\n",
       "sparta        3\n",
       "sporting      3\n",
       "sv            3\n",
       "union         3\n",
       "vojvodina     3\n",
       "wanderers     3\n",
       "04            2\n",
       "1860          2\n",
       "96            2\n",
       "97            2\n",
       "ac            2\n",
       "aek           2\n",
       "ael           2\n",
       "ajax          2\n",
       "apollon       2\n",
       "ararat        2\n",
       "ask           2\n",
       "Name: homeTeamCountry, dtype: int64"
      ]
     },
     "execution_count": 11,
     "metadata": {},
     "output_type": "execute_result"
    }
   ],
   "source": [
    "names.groupby('names')['homeTeamCountry'].nunique().nlargest(60)"
   ]
  },
  {
   "cell_type": "code",
   "execution_count": 27,
   "id": "6d4f3bfd",
   "metadata": {},
   "outputs": [
    {
     "data": {
      "text/plain": [
       "['Red Star Belgrade',\n",
       " 'FK Red Star',\n",
       " 'Beroe Stara Zagora',\n",
       " 'PFC Beroe Stara Zagora',\n",
       " 'Start']"
      ]
     },
     "execution_count": 27,
     "metadata": {},
     "output_type": "execute_result"
    }
   ],
   "source": [
    "df[df['homeTeam'].str.contains('Star',na=False)]['homeTeam'].drop_duplicates().to_list()"
   ]
  },
  {
   "cell_type": "code",
   "execution_count": 26,
   "id": "ffb7a6e9",
   "metadata": {},
   "outputs": [
    {
     "data": {
      "text/plain": [
       "['Arsenal', 'Arsenal Kyiv', 'Arsenal Tula', 'Arsenal Tivat']"
      ]
     },
     "execution_count": 26,
     "metadata": {},
     "output_type": "execute_result"
    }
   ],
   "source": [
    "df[df['homeTeam'].str.contains('Arsenal',na=False)]['homeTeam'].drop_duplicates().to_list()"
   ]
  },
  {
   "cell_type": "code",
   "execution_count": 25,
   "id": "9197d015",
   "metadata": {},
   "outputs": [
    {
     "data": {
      "text/plain": [
       "['Slavia Sofia', 'Slavia Praha', 'Slavia Prague', 'Slavia Mozyr']"
      ]
     },
     "execution_count": 25,
     "metadata": {},
     "output_type": "execute_result"
    }
   ],
   "source": [
    "df[df['homeTeam'].str.contains('Slavia',na=False)]['homeTeam'].drop_duplicates().to_list()"
   ]
  },
  {
   "cell_type": "code",
   "execution_count": 24,
   "id": "3585572e",
   "metadata": {},
   "outputs": [
    {
     "data": {
      "text/plain": [
       "['Athletic Bilbao',\n",
       " 'Atlético Madrid',\n",
       " 'Dunfermline Athletic',\n",
       " \"St Patrick's Athletic\",\n",
       " \"St. Patrick's Athletic\",\n",
       " 'Athletic Club',\n",
       " 'Wigan Athletic',\n",
       " \"Atlètic Club d'Escaldes\",\n",
       " \"Atlètic d'Escaldes\"]"
      ]
     },
     "execution_count": 24,
     "metadata": {},
     "output_type": "execute_result"
    }
   ],
   "source": [
    "df[df['homeTeam'].str.contains('Ath{0,1}l[eéè]',na=False)]['homeTeam'].drop_duplicates().to_list()"
   ]
  },
  {
   "cell_type": "code",
   "execution_count": 19,
   "id": "0c3d4e02",
   "metadata": {},
   "outputs": [
    {
     "data": {
      "text/plain": [
       "['Red Star Belgrade',\n",
       " 'CSKA Red Flag',\n",
       " 'FK Red Star',\n",
       " 'Red Boys Differdange',\n",
       " 'Red Bull Salzburg',\n",
       " 'Lincoln Red Imps']"
      ]
     },
     "execution_count": 19,
     "metadata": {},
     "output_type": "execute_result"
    }
   ],
   "source": [
    "df[df['homeTeam'].str.contains('Red ',na=False)]['homeTeam'].drop_duplicates().to_list()"
   ]
  },
  {
   "cell_type": "code",
   "execution_count": 18,
   "id": "4b976cf1",
   "metadata": {
    "scrolled": true
   },
   "outputs": [
    {
     "data": {
      "text/plain": [
       "['Manchester United',\n",
       " 'Borough United',\n",
       " 'West Ham United',\n",
       " 'Leeds United',\n",
       " 'Dundee United',\n",
       " 'Newcastle United',\n",
       " 'Waterford United',\n",
       " 'Gżira United',\n",
       " 'Ballymena United',\n",
       " 'Limerick United',\n",
       " 'Drogheda United',\n",
       " 'Galway United',\n",
       " 'Conwy United',\n",
       " 'Tampere United',\n",
       " 'Barry Town United']"
      ]
     },
     "execution_count": 18,
     "metadata": {},
     "output_type": "execute_result"
    }
   ],
   "source": [
    "df[df['homeTeam'].str.contains('United',na=False)]['homeTeam'].drop_duplicates().to_list()"
   ]
  },
  {
   "cell_type": "code",
   "execution_count": 17,
   "id": "4f4eb19d",
   "metadata": {},
   "outputs": [
    {
     "data": {
      "text/plain": [
       "['Inter Milan',\n",
       " 'Internazionale',\n",
       " 'Inter Bratislava',\n",
       " 'Internacionál Slovnaft Bratislava',\n",
       " 'Internacionál Bratislava',\n",
       " 'Inter Cardiff',\n",
       " 'Inter CableTel AFC',\n",
       " 'Inter CableTel',\n",
       " 'Inter Turku',\n",
       " 'Inter Zaprešić',\n",
       " 'Interblock',\n",
       " 'Inter Baku',\n",
       " \"Inter Club d'Escaldes\"]"
      ]
     },
     "execution_count": 17,
     "metadata": {},
     "output_type": "execute_result"
    }
   ],
   "source": [
    "df[df['homeTeam'].str.contains('Inter',na=False)]['homeTeam'].drop_duplicates().to_list()"
   ]
  },
  {
   "cell_type": "code",
   "execution_count": 14,
   "id": "58717757",
   "metadata": {},
   "outputs": [
    {
     "data": {
      "text/plain": [
       "['Torpedo Moscow',\n",
       " 'Torpedo Kutaisi',\n",
       " 'Torpedo Zhodino',\n",
       " 'Torpedo-BelAZ Zhodino']"
      ]
     },
     "execution_count": 14,
     "metadata": {},
     "output_type": "execute_result"
    }
   ],
   "source": [
    "df[df['homeTeam'].str.contains('Torpedo',na=False)]['homeTeam'].drop_duplicates().to_list()"
   ]
  },
  {
   "cell_type": "code",
   "execution_count": 13,
   "id": "bb6984af",
   "metadata": {},
   "outputs": [
    {
     "data": {
      "text/plain": [
       "['Union Saint-Gilloise',\n",
       " 'Union Luxembourg',\n",
       " 'R. Union Saint-Gilloise',\n",
       " 'Union Berlin',\n",
       " 'Racing Union']"
      ]
     },
     "execution_count": 13,
     "metadata": {},
     "output_type": "execute_result"
    }
   ],
   "source": [
    "df[df['homeTeam'].str.contains('Union',na=False)]['homeTeam'].drop_duplicates().to_list()"
   ]
  },
  {
   "cell_type": "code",
   "execution_count": 9,
   "id": "bc47af67",
   "metadata": {},
   "outputs": [
    {
     "data": {
      "text/plain": [
       "names\n",
       "fc            50\n",
       "spartak       18\n",
       "town          16\n",
       "united        15\n",
       "city          14\n",
       "fk            13\n",
       "xi            13\n",
       "dinamo        11\n",
       "sofia         11\n",
       "bucurești      9\n",
       "inter          9\n",
       "baku           8\n",
       "cska           8\n",
       "dynamo         8\n",
       "hapoel         8\n",
       "sk             8\n",
       "st             8\n",
       "tallinn        8\n",
       "bratislava     7\n",
       "brno           7\n",
       "de             7\n",
       "ifk            7\n",
       "leipzig        7\n",
       "moscow         7\n",
       "sc             7\n",
       "zagreb         7\n",
       "1              6\n",
       "athletic       6\n",
       "bk             6\n",
       "club           6\n",
       "if             6\n",
       "minsk          6\n",
       "praha          6\n",
       "racing         6\n",
       "rapid          6\n",
       "red            6\n",
       "tbilisi        6\n",
       "tirana         6\n",
       "aris           5\n",
       "austria        5\n",
       "Name: homeTeam, dtype: int64"
      ]
     },
     "execution_count": 9,
     "metadata": {},
     "output_type": "execute_result"
    }
   ],
   "source": [
    "names.groupby('names')['homeTeam'].nunique().nlargest(40)"
   ]
  }
 ],
 "metadata": {
  "kernelspec": {
   "display_name": "Python 3 (ipykernel)",
   "language": "python",
   "name": "python3"
  },
  "language_info": {
   "codemirror_mode": {
    "name": "ipython",
    "version": 3
   },
   "file_extension": ".py",
   "mimetype": "text/x-python",
   "name": "python",
   "nbconvert_exporter": "python",
   "pygments_lexer": "ipython3",
   "version": "3.11.5"
  }
 },
 "nbformat": 4,
 "nbformat_minor": 5
}
